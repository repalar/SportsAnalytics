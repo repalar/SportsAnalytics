{
 "cells": [
  {
   "cell_type": "code",
   "execution_count": 1,
   "id": "88de1795",
   "metadata": {},
   "outputs": [],
   "source": [
    "## NBA Data with the nba_api Module "
   ]
  },
  {
   "cell_type": "code",
   "execution_count": 2,
   "id": "0dca9efd",
   "metadata": {},
   "outputs": [
    {
     "name": "stdout",
     "output_type": "stream",
     "text": [
      "Collecting nba_api\n",
      "  Downloading nba_api-1.1.11.tar.gz (125 kB)\n",
      "\u001b[K     |████████████████████████████████| 125 kB 1.5 MB/s eta 0:00:01\n",
      "\u001b[?25hRequirement already satisfied: requests in /Users/rohanrepala/opt/anaconda3/lib/python3.8/site-packages (from nba_api) (2.25.1)\n",
      "Requirement already satisfied: certifi>=2017.4.17 in /Users/rohanrepala/opt/anaconda3/lib/python3.8/site-packages (from requests->nba_api) (2020.12.5)\n",
      "Requirement already satisfied: idna<3,>=2.5 in /Users/rohanrepala/opt/anaconda3/lib/python3.8/site-packages (from requests->nba_api) (2.10)\n",
      "Requirement already satisfied: chardet<5,>=3.0.2 in /Users/rohanrepala/opt/anaconda3/lib/python3.8/site-packages (from requests->nba_api) (4.0.0)\n",
      "Requirement already satisfied: urllib3<1.27,>=1.21.1 in /Users/rohanrepala/opt/anaconda3/lib/python3.8/site-packages (from requests->nba_api) (1.26.4)\n",
      "Building wheels for collected packages: nba-api\n",
      "  Building wheel for nba-api (setup.py) ... \u001b[?25ldone\n",
      "\u001b[?25h  Created wheel for nba-api: filename=nba_api-1.1.11-py3-none-any.whl size=251488 sha256=57d1ed1d3a5b255cdcded0782d53f00adb39ff90c084b22007a8031f3fde68ef\n",
      "  Stored in directory: /Users/rohanrepala/Library/Caches/pip/wheels/96/0a/d6/0e51f16e26a046ed08ce8266c86011c74bf57678cd62ad71b0\n",
      "Successfully built nba-api\n",
      "Installing collected packages: nba-api\n",
      "Successfully installed nba-api-1.1.11\n",
      "Note: you may need to restart the kernel to use updated packages.\n"
     ]
    }
   ],
   "source": [
    "pip install nba_api"
   ]
  },
  {
   "cell_type": "code",
   "execution_count": 3,
   "id": "fbfb7128",
   "metadata": {},
   "outputs": [],
   "source": [
    "from nba_api.stats.static import players\n",
    "player_dict = players.get_players()"
   ]
  },
  {
   "cell_type": "code",
   "execution_count": 7,
   "id": "c0ff8e42",
   "metadata": {},
   "outputs": [
    {
     "data": {
      "text/plain": [
       "{'id': 2544,\n",
       " 'full_name': 'LeBron James',\n",
       " 'first_name': 'LeBron',\n",
       " 'last_name': 'James',\n",
       " 'is_active': True}"
      ]
     },
     "execution_count": 7,
     "metadata": {},
     "output_type": "execute_result"
    }
   ],
   "source": [
    "bron = [player for player in player_dict if player['full_name'] == 'LeBron James'][0]\n",
    "bron_id = bron['id']\n"
   ]
  },
  {
   "cell_type": "code",
   "execution_count": 8,
   "id": "50ab902d",
   "metadata": {},
   "outputs": [],
   "source": [
    "# find team Ids\n",
    "from nba_api.stats.static import teams \n",
    "teams = teams.get_teams()\n",
    "GSW = [x for x in teams if x['full_name'] == 'Golden State Warriors'][0]\n",
    "GSW_id = GSW['id']"
   ]
  },
  {
   "cell_type": "code",
   "execution_count": 10,
   "id": "346ed1c9",
   "metadata": {},
   "outputs": [],
   "source": [
    "# import the endpoint for gamelog\n",
    "from nba_api.stats.endpoints import playergamelog\n",
    "import pandas as pd "
   ]
  },
  {
   "cell_type": "code",
   "execution_count": 11,
   "id": "aa60855b",
   "metadata": {},
   "outputs": [],
   "source": [
    "gamelog_bron = playergamelog.PlayerGameLog(player_id='2544', season = '2020')"
   ]
  },
  {
   "cell_type": "code",
   "execution_count": 14,
   "id": "bba6d698",
   "metadata": {},
   "outputs": [],
   "source": [
    "df_bron_games_2018 = gamelog_bron.get_data_frames()\n",
    "df_bron_games_2020 = gamelog_bron.get_data_frames()"
   ]
  },
  {
   "cell_type": "code",
   "execution_count": 15,
   "id": "ad5cdc64",
   "metadata": {},
   "outputs": [
    {
     "data": {
      "text/plain": [
       "[   SEASON_ID  Player_ID     Game_ID     GAME_DATE      MATCHUP WL  MIN  FGM  \\\n",
       " 0      22018       2544  0021801135  MAR 29, 2019  LAL vs. CHA  W   32   11   \n",
       " 1      22018       2544  0021801116  MAR 26, 2019  LAL vs. WAS  W   34   11   \n",
       " 2      22018       2544  0021801102  MAR 24, 2019  LAL vs. SAC  W   35    9   \n",
       " 3      22018       2544  0021801086  MAR 22, 2019  LAL vs. BKN  L   37    8   \n",
       " 4      22018       2544  0021801042  MAR 17, 2019    LAL @ NYK  L   35   11   \n",
       " 5      22018       2544  0021801023  MAR 14, 2019    LAL @ TOR  L   32   12   \n",
       " 6      22018       2544  0021801009  MAR 12, 2019    LAL @ CHI  W   33   15   \n",
       " 7      22018       2544  0021800989  MAR 09, 2019  LAL vs. BOS  L   28   13   \n",
       " 8      22018       2544  0021800974  MAR 06, 2019  LAL vs. DEN  L   31   13   \n",
       " 9      22018       2544  0021800958  MAR 04, 2019  LAL vs. LAC  L   42    9   \n",
       " 10     22018       2544  0021800942  MAR 02, 2019    LAL @ PHX  L   41   10   \n",
       " 11     22018       2544  0021800934  MAR 01, 2019  LAL vs. MIL  L   39   10   \n",
       " 12     22018       2544  0021800921  FEB 27, 2019  LAL vs. NOP  W   37   13   \n",
       " 13     22018       2544  0021800904  FEB 25, 2019    LAL @ MEM  L   40    8   \n",
       " 14     22018       2544  0021800887  FEB 23, 2019    LAL @ NOP  L   39   11   \n",
       " 15     22018       2544  0021800872  FEB 21, 2019  LAL vs. HOU  W   40   11   \n",
       " 16     22018       2544  0021800848  FEB 12, 2019    LAL @ ATL  L   43    8   \n",
       " 17     22018       2544  0021800835  FEB 10, 2019    LAL @ PHI  L   33    8   \n",
       " 18     22018       2544  0021800814  FEB 07, 2019    LAL @ BOS  W   38   11   \n",
       " 19     22018       2544  0021800798  FEB 05, 2019    LAL @ IND  L   30    7   \n",
       " 20     22018       2544  0021800769  JAN 31, 2019    LAL @ LAC  W   40    9   \n",
       " 21     22018       2544  0021800500  DEC 25, 2018    LAL @ GSW  W   21    6   \n",
       " 22     22018       2544  0021800496  DEC 23, 2018  LAL vs. MEM  L   36    8   \n",
       " 23     22018       2544  0021800478  DEC 21, 2018  LAL vs. NOP  W   39    8   \n",
       " 24     22018       2544  0021800453  DEC 18, 2018    LAL @ BKN  L   41   13   \n",
       " 25     22018       2544  0021800439  DEC 16, 2018    LAL @ WAS  L   32    5   \n",
       " 26     22018       2544  0021800430  DEC 15, 2018    LAL @ CHA  W   30    7   \n",
       " 27     22018       2544  0021800416  DEC 13, 2018    LAL @ HOU  L   36   12   \n",
       " 28     22018       2544  0021800401  DEC 10, 2018  LAL vs. MIA  W   38   10   \n",
       " 29     22018       2544  0021800384  DEC 08, 2018    LAL @ MEM  W   32    9   \n",
       " 30     22018       2544  0021800375  DEC 07, 2018    LAL @ SAS  L   37   13   \n",
       " 31     22018       2544  0021800364  DEC 05, 2018  LAL vs. SAS  W   40   15   \n",
       " 32     22018       2544  0021800337  DEC 02, 2018  LAL vs. PHX  W   31    9   \n",
       " 33     22018       2544  0021800328  NOV 30, 2018  LAL vs. DAL  W   31   12   \n",
       " 34     22018       2544  0021800317  NOV 29, 2018  LAL vs. IND  W   38   15   \n",
       " 35     22018       2544  0021800304  NOV 27, 2018    LAL @ DEN  L   30    5   \n",
       " 36     22018       2544  0021800286  NOV 25, 2018  LAL vs. ORL  L   40    8   \n",
       " 37     22018       2544  0021800278  NOV 23, 2018  LAL vs. UTA  W   35    8   \n",
       " 38     22018       2544  0021800256  NOV 21, 2018    LAL @ CLE  W   36   11   \n",
       " 39     22018       2544  0021800235  NOV 18, 2018    LAL @ MIA  W   38   19   \n",
       " 40     22018       2544  0021800227  NOV 17, 2018    LAL @ ORL  L   26    8   \n",
       " 41     22018       2544  0021800212  NOV 14, 2018  LAL vs. POR  W   36   13   \n",
       " 42     22018       2544  0021800189  NOV 11, 2018  LAL vs. ATL  W   34   10   \n",
       " 43     22018       2544  0021800183  NOV 10, 2018    LAL @ SAC  W   31   10   \n",
       " 44     22018       2544  0021800162  NOV 07, 2018  LAL vs. MIN  W   39   10   \n",
       " 45     22018       2544  0021800139  NOV 04, 2018  LAL vs. TOR  L   28    6   \n",
       " 46     22018       2544  0021800132  NOV 03, 2018    LAL @ POR  W   31    9   \n",
       " 47     22018       2544  0021800109  OCT 31, 2018  LAL vs. DAL  W   39   11   \n",
       " 48     22018       2544  0021800093  OCT 29, 2018    LAL @ MIN  L   36   11   \n",
       " 49     22018       2544  0021800082  OCT 27, 2018    LAL @ SAS  L   34   13   \n",
       " 50     22018       2544  0021800066  OCT 25, 2018  LAL vs. DEN  W   35   10   \n",
       " 51     22018       2544  0021800060  OCT 24, 2018    LAL @ PHX  W   28    7   \n",
       " 52     22018       2544  0021800048  OCT 22, 2018  LAL vs. SAS  L   43   11   \n",
       " 53     22018       2544  0021800035  OCT 20, 2018  LAL vs. HOU  L   39    9   \n",
       " 54     22018       2544  0021800016  OCT 18, 2018    LAL @ POR  L   37    9   \n",
       " \n",
       "     FGA  FG_PCT  ...  DREB  REB  AST  STL  BLK  TOV  PF  PTS  PLUS_MINUS  \\\n",
       " 0    19   0.579  ...     3    3    9    0    0    6   1   27          14   \n",
       " 1    20   0.550  ...     7    7   14    1    0    3   1   23           3   \n",
       " 2    22   0.409  ...     9   11   11    2    1    4   1   29           5   \n",
       " 3    25   0.320  ...     6    9   14    1    1    8   3   25          -2   \n",
       " 4    26   0.423  ...     4    6    8    0    1    2   2   33           9   \n",
       " 5    23   0.522  ...     4    4    6    1    0    4   2   29           0   \n",
       " 6    23   0.652  ...     9   10    4    2    0    5   2   36           9   \n",
       " 7    23   0.565  ...     8   10   12    0    0    3   0   30          11   \n",
       " 8    22   0.591  ...     7    7    7    1    1    4   4   31          -8   \n",
       " 9    18   0.500  ...     8    8    6    1    1    2   3   27         -11   \n",
       " 10   21   0.476  ...     9    9   16    0    0    3   2   27          -1   \n",
       " 11   19   0.526  ...     5    7   10    1    0    3   2   31          -4   \n",
       " 12   24   0.542  ...     5    6   10    2    1    2   2   33           2   \n",
       " 13   23   0.348  ...     9   12   11    3    0    5   3   24           2   \n",
       " 14   17   0.647  ...     7    7   12    4    1    4   0   27         -10   \n",
       " 15   23   0.478  ...     8   12    6    1    1    4   1   29           6   \n",
       " 16   20   0.400  ...     9   11   16    3    1    2   3   28           0   \n",
       " 17   16   0.500  ...    10   10    9    0    0    4   3   18           0   \n",
       " 18   21   0.524  ...    10   12   12    3    0    3   4   28          11   \n",
       " 19   12   0.583  ...     7    7    9    1    0    6   1   18         -17   \n",
       " 20   22   0.409  ...    13   14    9    1    0    4   0   24           2   \n",
       " 21   11   0.545  ...    11   13    5    1    0    2   1   17           5   \n",
       " 22   14   0.571  ...    13   14    7    1    1    4   0   22          -3   \n",
       " 23   20   0.400  ...    10   12   14    2    0    2   3   22          13   \n",
       " 24   23   0.565  ...    12   13    8    1    1    5   1   36           4   \n",
       " 25   16   0.313  ...     6    6    3    0    1    4   0   13         -21   \n",
       " 26   15   0.467  ...    11   12   11    1    0    3   0   24          31   \n",
       " 27   18   0.667  ...     5    5    4    2    0    3   1   29          -9   \n",
       " 28   19   0.526  ...     9    9   12    1    0    2   0   28          18   \n",
       " 29   18   0.500  ...     7    8    9    2    0    5   2   20          21   \n",
       " 30   28   0.464  ...     6    8   11    2    0    1   4   35         -19   \n",
       " 31   24   0.625  ...     5    5    6    2    0    2   1   42          19   \n",
       " 32   17   0.529  ...     6    6    8    0    1    5   0   22          12   \n",
       " 33   21   0.571  ...     3    5    4    0    1    4   3   28          10   \n",
       " 34   27   0.556  ...     8    9    7    2    0    4   2   38          19   \n",
       " 35   15   0.333  ...     7    7    2    2    2    4   0   14         -23   \n",
       " 36   14   0.571  ...     4    4    7    0    1    6   4   24         -14   \n",
       " 37   17   0.471  ...     9   10    7    2    1    5   1   22          13   \n",
       " 38   20   0.550  ...    12   14    7    0    1    4   3   32           9   \n",
       " 39   31   0.613  ...     7    8    3    2    1    2   3   51          20   \n",
       " 40   19   0.421  ...     4    4    7    0    1    3   0   22         -11   \n",
       " 41   19   0.684  ...     8   10    9    1    3    4   0   44           4   \n",
       " 42   20   0.500  ...     4    7    4    2    0    4   1   26          22   \n",
       " 43   18   0.556  ...     6    7    2    1    0    3   2   25           2   \n",
       " 44   21   0.476  ...    10   11    9    0    2    3   1   24           3   \n",
       " 45   12   0.500  ...     2    2    6    0    1    3   3   18         -16   \n",
       " 46   20   0.450  ...     5    5    7    0    2    3   1   28         -22   \n",
       " 47   19   0.579  ...     5    5    6    3    0    3   3   29           5   \n",
       " 48   23   0.478  ...     7   10    8    2    2    5   2   29          -6   \n",
       " 49   21   0.619  ...    10   11    4    2    0    4   3   35          -1   \n",
       " 50   17   0.588  ...    11   11   11    3    0    2   3   28          13   \n",
       " 51   16   0.438  ...     7    7   10    3    0    0   1   19          19   \n",
       " 52   25   0.440  ...     6    8   14    1    1    5   2   32          -5   \n",
       " 53   22   0.409  ...     5    5    5    2    1    1   0   24         -13   \n",
       " 54   16   0.563  ...    10   12    6    1    0    6   3   26          -4   \n",
       " \n",
       "     VIDEO_AVAILABLE  \n",
       " 0                 1  \n",
       " 1                 1  \n",
       " 2                 1  \n",
       " 3                 1  \n",
       " 4                 2  \n",
       " 5                 1  \n",
       " 6                 1  \n",
       " 7                 1  \n",
       " 8                 1  \n",
       " 9                 1  \n",
       " 10                1  \n",
       " 11                1  \n",
       " 12                1  \n",
       " 13                1  \n",
       " 14                1  \n",
       " 15                1  \n",
       " 16                1  \n",
       " 17                1  \n",
       " 18                1  \n",
       " 19                1  \n",
       " 20                1  \n",
       " 21                1  \n",
       " 22                1  \n",
       " 23                1  \n",
       " 24                1  \n",
       " 25                1  \n",
       " 26                1  \n",
       " 27                1  \n",
       " 28                1  \n",
       " 29                1  \n",
       " 30                1  \n",
       " 31                1  \n",
       " 32                1  \n",
       " 33                1  \n",
       " 34                1  \n",
       " 35                1  \n",
       " 36                1  \n",
       " 37                1  \n",
       " 38                1  \n",
       " 39                1  \n",
       " 40                1  \n",
       " 41                1  \n",
       " 42                1  \n",
       " 43                1  \n",
       " 44                1  \n",
       " 45                1  \n",
       " 46                1  \n",
       " 47                1  \n",
       " 48                1  \n",
       " 49                1  \n",
       " 50                1  \n",
       " 51                1  \n",
       " 52                1  \n",
       " 53                1  \n",
       " 54                1  \n",
       " \n",
       " [55 rows x 27 columns]]"
      ]
     },
     "execution_count": 15,
     "metadata": {},
     "output_type": "execute_result"
    }
   ],
   "source": [
    "df_bron_games_2020"
   ]
  },
  {
   "cell_type": "code",
   "execution_count": 16,
   "id": "08586431",
   "metadata": {},
   "outputs": [],
   "source": [
    "# If you want all seasons, you must import the SeasonAll parameter \n",
    "from nba_api.stats.library.parameters import SeasonAll\n",
    "\n",
    "gamelog_bron_all = playergamelog.PlayerGameLog(player_id='2544', season = SeasonAll.all)\n",
    "\n",
    "df_bron_games_all = gamelog_bron_all.get_data_frames()"
   ]
  },
  {
   "cell_type": "code",
   "execution_count": 18,
   "id": "7700240b",
   "metadata": {},
   "outputs": [],
   "source": [
    "from nba_api.stats.endpoints import leaguegamefinder\n",
    "\n",
    "#this time we convert it to a dataframe in the same line of code\n",
    "GSW_games = leaguegamefinder.LeagueGameFinder(team_id_nullable=GSW_id).get_data_frames()[0]"
   ]
  },
  {
   "cell_type": "code",
   "execution_count": 35,
   "id": "129ec266",
   "metadata": {},
   "outputs": [],
   "source": [
    "from nba_api.stats.endpoints import draftcombinestats\n",
    "\n",
    "combinestats = draftcombinestats.DraftCombineStats"
   ]
  },
  {
   "cell_type": "code",
   "execution_count": 28,
   "id": "2da18156",
   "metadata": {},
   "outputs": [
    {
     "name": "stdout",
     "output_type": "stream",
     "text": [
      "Requirement already satisfied: nba-api in /Users/rohanrepala/opt/anaconda3/lib/python3.8/site-packages (1.1.11)\n",
      "Requirement already satisfied: requests in /Users/rohanrepala/opt/anaconda3/lib/python3.8/site-packages (from nba-api) (2.25.1)\n",
      "Requirement already satisfied: urllib3<1.27,>=1.21.1 in /Users/rohanrepala/opt/anaconda3/lib/python3.8/site-packages (from requests->nba-api) (1.26.4)\n",
      "Requirement already satisfied: idna<3,>=2.5 in /Users/rohanrepala/opt/anaconda3/lib/python3.8/site-packages (from requests->nba-api) (2.10)\n",
      "Requirement already satisfied: certifi>=2017.4.17 in /Users/rohanrepala/opt/anaconda3/lib/python3.8/site-packages (from requests->nba-api) (2020.12.5)\n",
      "Requirement already satisfied: chardet<5,>=3.0.2 in /Users/rohanrepala/opt/anaconda3/lib/python3.8/site-packages (from requests->nba-api) (4.0.0)\n",
      "Note: you may need to restart the kernel to use updated packages.\n"
     ]
    }
   ],
   "source": [
    "pip install nba-api"
   ]
  },
  {
   "cell_type": "code",
   "execution_count": null,
   "id": "5ac4cdc4",
   "metadata": {},
   "outputs": [],
   "source": []
  }
 ],
 "metadata": {
  "kernelspec": {
   "display_name": "Python 3",
   "language": "python",
   "name": "python3"
  },
  "language_info": {
   "codemirror_mode": {
    "name": "ipython",
    "version": 3
   },
   "file_extension": ".py",
   "mimetype": "text/x-python",
   "name": "python",
   "nbconvert_exporter": "python",
   "pygments_lexer": "ipython3",
   "version": "3.8.8"
  }
 },
 "nbformat": 4,
 "nbformat_minor": 5
}
